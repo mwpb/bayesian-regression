{
 "cells": [
  {
   "cell_type": "code",
   "execution_count": 13,
   "metadata": {},
   "outputs": [],
   "source": [
    "import math\n",
    "import scipy.stats\n",
    "import numpy as np\n",
    "import pandas\n",
    "from collections import defaultdict\n",
    "import matplotlib.pylab as plt"
   ]
  },
  {
   "cell_type": "code",
   "execution_count": 14,
   "metadata": {},
   "outputs": [],
   "source": [
    "df = list(pandas.read_csv(\"poverty.csv\").itertuples(index=False))"
   ]
  },
  {
   "cell_type": "code",
   "execution_count": 28,
   "metadata": {},
   "outputs": [],
   "source": [
    "class MetropolisRegression:\n",
    "    cache = {}\n",
    "    freqs = {\n",
    "        'mean':defaultdict(int),\n",
    "        'intercept':defaultdict(int),\n",
    "        'std':defaultdict(int)\n",
    "    }\n",
    "    def __init__(self, df, residual_dist, mean=0, intercept=0, std=1):\n",
    "        self.mean, self.intercept, self.std = mean, intercept, std\n",
    "        self.residual_dist = residual_dist\n",
    "    def probability(self, mean, intercept, std):\n",
    "        mean, intercept, std = round(mean, 1), round(intercept, 1), round(std, 1)\n",
    "        if (mean, intercept, std) not in self.cache:\n",
    "            p = 0\n",
    "            for row in df:\n",
    "                x, y = row[0], row[1]\n",
    "                p += self.residual_dist(intercept+mean*x, std).logpdf(y)\n",
    "            self.cache[mean, intercept, std] = p\n",
    "        return self.cache[mean, intercept, std]\n",
    "    def should_accept(self, new_mean, new_intercept, new_std):\n",
    "        old_log_prob = self.probability(self.mean, self.intercept, self.std)\n",
    "        new_log_prob = self.probability(new_mean, new_intercept, new_std)\n",
    "        log_acceptance_probability = new_log_prob - old_log_prob\n",
    "        if log_acceptance_probability >= 0:\n",
    "            return True\n",
    "        else:\n",
    "            u = np.random.uniform(0, 1, 1)\n",
    "            if math.log(u) <= log_acceptance_probability:\n",
    "                return True\n",
    "        return False\n",
    "    def next_sample(self):\n",
    "        new_mean = self.mean + np.random.normal(0, 0.1, 1)[0]\n",
    "        new_intercept = self.intercept + np.random.normal(0, 0.1, 1)[0]\n",
    "        new_std = max(0, self.std + np.random.normal(0, 0.1, 1)[0])\n",
    "        if self.should_accept(new_mean, new_intercept, new_std):\n",
    "            self.mean, self.intercept, self.std = new_mean, new_intercept, new_std\n",
    "        self.freqs['mean'][round(self.mean, 1)] += 1\n",
    "        self.freqs['intercept'][round(self.intercept,1)] += 1\n",
    "        self.freqs['std'][round(self.std, 1)] += 1\n",
    "    def run(self, n):\n",
    "        for i in range(n):\n",
    "            self.next_sample()\n",
    "    def plot_mean(self):\n",
    "        lists = sorted(self.freqs['mean'].items())\n",
    "        x, y = zip(*lists)\n",
    "        plt.plot(x, y)\n",
    "        plt.show()\n",
    "    def plot_intercept(self):\n",
    "        lists = sorted(self.freqs['intercept'].items())\n",
    "        x, y = zip(*lists)\n",
    "        plt.plot(x, y)\n",
    "        plt.show()\n",
    "    def plot_std(self):\n",
    "        lists = sorted(self.freqs['std'].items())\n",
    "        x, y = zip(*lists)\n",
    "        plt.plot(x, y)\n",
    "        plt.show()"
   ]
  },
  {
   "cell_type": "code",
   "execution_count": 29,
   "metadata": {},
   "outputs": [],
   "source": [
    "m = MetropolisRegression(df, scipy.stats.norm)"
   ]
  },
  {
   "cell_type": "code",
   "execution_count": 32,
   "metadata": {},
   "outputs": [],
   "source": [
    "m.run(10)"
   ]
  },
  {
   "cell_type": "code",
   "execution_count": 33,
   "metadata": {},
   "outputs": [
    {
     "data": {
      "image/png": "[encoded data removed]",
      "text/plain": [
       "<Figure size 432x288 with 1 Axes>"
      ]
     },
     "metadata": {
      "needs_background": "light"
     },
     "output_type": "display_data"
    }
   ],
   "source": [
    "m.plot_std()"
   ]
  },
  {
   "cell_type": "code",
   "execution_count": null,
   "metadata": {},
   "outputs": [],
   "source": []
  },
  {
   "cell_type": "code",
   "execution_count": null,
   "metadata": {},
   "outputs": [],
   "source": []
  },
  {
   "cell_type": "code",
   "execution_count": null,
   "metadata": {},
   "outputs": [],
   "source": []
  },
  {
   "cell_type": "code",
   "execution_count": null,
   "metadata": {},
   "outputs": [],
   "source": []
  },
  {
   "cell_type": "code",
   "execution_count": null,
   "metadata": {},
   "outputs": [],
   "source": []
  },
  {
   "cell_type": "code",
   "execution_count": null,
   "metadata": {},
   "outputs": [],
   "source": []
  },
  {
   "cell_type": "code",
   "execution_count": null,
   "metadata": {},
   "outputs": [],
   "source": []
  },
  {
   "cell_type": "code",
   "execution_count": null,
   "metadata": {},
   "outputs": [],
   "source": []
  },
  {
   "cell_type": "code",
   "execution_count": null,
   "metadata": {},
   "outputs": [],
   "source": []
  },
  {
   "cell_type": "code",
   "execution_count": null,
   "metadata": {},
   "outputs": [],
   "source": []
  },
  {
   "cell_type": "code",
   "execution_count": null,
   "metadata": {},
   "outputs": [],
   "source": []
  }
 ],
 "metadata": {
  "jupytext": {
   "formats": "ipynb,py:light"
  },
  "kernelspec": {
   "display_name": "Python 3",
   "language": "python",
   "name": "python3"
  },
  "language_info": {
   "codemirror_mode": {
    "name": "ipython",
    "version": 3
   },
   "file_extension": ".py",
   "mimetype": "text/x-python",
   "name": "python",
   "nbconvert_exporter": "python",
   "pygments_lexer": "ipython3",
   "version": "3.7.3"
  }
 },
 "nbformat": 4,
 "nbformat_minor": 2
}
