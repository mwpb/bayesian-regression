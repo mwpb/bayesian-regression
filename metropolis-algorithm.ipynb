{
 "cells": [
  {
   "cell_type": "code",
   "execution_count": 63,
   "metadata": {},
   "outputs": [],
   "source": [
    "import math\n",
    "import scipy.stats\n",
    "import numpy as np\n",
    "import pandas\n",
    "from collections import defaultdict"
   ]
  },
  {
   "cell_type": "code",
   "execution_count": 64,
   "metadata": {},
   "outputs": [],
   "source": [
    "df = list(pandas.read_csv(\"poverty.csv\").itertuples(index=False))"
   ]
  },
  {
   "cell_type": "code",
   "execution_count": 65,
   "metadata": {},
   "outputs": [],
   "source": [
    "cache = {}\n",
    "\n",
    "def probability(mean, intercept, std):\n",
    "    mean, intercept, std = round(mean, 1), round(intercept, 1), round(std, 1)\n",
    "    if (mean, intercept, std) not in cache:\n",
    "        p = 0\n",
    "        for row in df:\n",
    "            x, y = row[0], row[1]\n",
    "            p += scipy.stats.norm(intercept+mean*x, std).logpdf(y)\n",
    "        cache[mean, intercept, std] = p\n",
    "    return cache[mean, intercept, std]\n",
    "\n",
    "def next_sample(mean, intercept, std):\n",
    "    new_mean = mean + np.random.normal(0, 0.1, 1)[0]\n",
    "    new_intercept = intercept + np.random.normal(0, 0.1, 1)[0]\n",
    "    new_std = max(0, std + np.random.normal(0, 0.1, 1)[0])\n",
    "    log_a = probability(new_mean, new_intercept, new_std) - probability(mean, intercept, std)\n",
    "    if log_a >= 0:\n",
    "        mean, intercept, std = new_mean, new_intercept, new_std\n",
    "    else:\n",
    "        u = np.random.uniform(0, 1, 1)\n",
    "        if math.log(u) <= log_a:\n",
    "            mean, intercept, std = new_mean, new_intercept, new_std\n",
    "    return round(mean, 2), round(intercept, 2), round(std, 2)"
   ]
  },
  {
   "cell_type": "code",
   "execution_count": 84,
   "metadata": {},
   "outputs": [],
   "source": [
    "mean, intercept, std = 1.3, 0.0, 1.0\n",
    "\n",
    "means = []\n",
    "intercepts = []\n",
    "stds = []"
   ]
  },
  {
   "cell_type": "code",
   "execution_count": 93,
   "metadata": {
    "scrolled": true
   },
   "outputs": [
    {
     "name": "stdout",
     "output_type": "stream",
     "text": [
      "CPU times: user 10.8 s, sys: 144 ms, total: 11 s\n",
      "Wall time: 11.5 s\n"
     ]
    }
   ],
   "source": [
    "%%time\n",
    "for i in range(200):\n",
    "    mean, intercept, std = next_sample(mean, intercept, std)\n",
    "    means.append(round(mean, 1))\n",
    "    intercepts.append(round(intercept, 1))\n",
    "    stds.append(round(std, 1))"
   ]
  },
  {
   "cell_type": "code",
   "execution_count": 94,
   "metadata": {},
   "outputs": [],
   "source": [
    "out_df = pandas.DataFrame()\n",
    "out_df['means'] = means"
   ]
  },
  {
   "cell_type": "code",
   "execution_count": 98,
   "metadata": {},
   "outputs": [
    {
     "data": {
      "text/plain": [
       "<matplotlib.axes._subplots.AxesSubplot at 0x1a25bc16d8>"
      ]
     },
     "execution_count": 98,
     "metadata": {},
     "output_type": "execute_result"
    },
    {
     "data": {
      "image/png": "[encoded data removed]",
      "text/plain": [
       "<Figure size 432x288 with 1 Axes>"
      ]
     },
     "metadata": {
      "needs_background": "light"
     },
     "output_type": "display_data"
    }
   ],
   "source": [
    "out_df.plot(bins=10, kind='hist')"
   ]
  },
  {
   "cell_type": "code",
   "execution_count": null,
   "metadata": {},
   "outputs": [],
   "source": []
  }
 ],
 "metadata": {
  "kernelspec": {
   "display_name": "Python 3",
   "language": "python",
   "name": "python3"
  },
  "language_info": {
   "codemirror_mode": {
    "name": "ipython",
    "version": 3
   },
   "file_extension": ".py",
   "mimetype": "text/x-python",
   "name": "python",
   "nbconvert_exporter": "python",
   "pygments_lexer": "ipython3",
   "version": "3.7.3"
  }
 },
 "nbformat": 4,
 "nbformat_minor": 2
}
